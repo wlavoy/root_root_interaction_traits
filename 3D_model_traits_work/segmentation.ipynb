{
 "cells": [
  {
   "cell_type": "code",
   "execution_count": null,
   "metadata": {},
   "outputs": [],
   "source": [
    "'''\n",
    "First attempts at segmentation\n",
    "'''"
   ]
  },
  {
   "cell_type": "code",
   "execution_count": 5,
   "metadata": {},
   "outputs": [
    {
     "ename": "ModuleNotFoundError",
     "evalue": "No module named 'pcl'",
     "output_type": "error",
     "traceback": [
      "\u001b[0;31m---------------------------------------------------------------------------\u001b[0m",
      "\u001b[0;31mModuleNotFoundError\u001b[0m                       Traceback (most recent call last)",
      "\u001b[1;32m/home/williamlavoy/model_traits/root_root_interaction_traits/3D_model_traits_work/segmentation.ipynb Cell 2\u001b[0m in \u001b[0;36m<cell line: 5>\u001b[0;34m()\u001b[0m\n\u001b[1;32m      <a href='vscode-notebook-cell:/home/williamlavoy/model_traits/root_root_interaction_traits/3D_model_traits_work/segmentation.ipynb#ch0000001?line=2'>3</a>\u001b[0m \u001b[39mimport\u001b[39;00m \u001b[39mmatplotlib\u001b[39;00m\u001b[39m.\u001b[39;00m\u001b[39mpyplot\u001b[39;00m \u001b[39mas\u001b[39;00m \u001b[39mplt\u001b[39;00m\n\u001b[1;32m      <a href='vscode-notebook-cell:/home/williamlavoy/model_traits/root_root_interaction_traits/3D_model_traits_work/segmentation.ipynb#ch0000001?line=3'>4</a>\u001b[0m \u001b[39mimport\u001b[39;00m \u001b[39mopen3d\u001b[39;00m \u001b[39mas\u001b[39;00m \u001b[39mo3d\u001b[39;00m\n\u001b[0;32m----> <a href='vscode-notebook-cell:/home/williamlavoy/model_traits/root_root_interaction_traits/3D_model_traits_work/segmentation.ipynb#ch0000001?line=4'>5</a>\u001b[0m \u001b[39mimport\u001b[39;00m \u001b[39mpcl\u001b[39;00m\n",
      "\u001b[0;31mModuleNotFoundError\u001b[0m: No module named 'pcl'"
     ]
    }
   ],
   "source": [
    "#load necessary packages\n",
    "import numpy as np\n",
    "import matplotlib.pyplot as plt\n",
    "import open3d as o3d\n",
    "import pcl"
   ]
  },
  {
   "cell_type": "code",
   "execution_count": 3,
   "metadata": {},
   "outputs": [],
   "source": [
    "#create paths for our data\n",
    "data_folder = \"./work/\"\n",
    "data_xyz = \"ft_all.xyz\"\n",
    "data_ply = \"ft_all_aligned.ply\"\n",
    "\n",
    "#DBSCAN\n",
    "pcd = o3d.io.read_point_cloud(data_folder + data_ply)"
   ]
  },
  {
   "cell_type": "code",
   "execution_count": 4,
   "metadata": {},
   "outputs": [
    {
     "ename": "AttributeError",
     "evalue": "module 'open3d' has no attribute 'data'",
     "output_type": "error",
     "traceback": [
      "\u001b[0;31m---------------------------------------------------------------------------\u001b[0m",
      "\u001b[0;31mAttributeError\u001b[0m                            Traceback (most recent call last)",
      "\u001b[1;32m/home/williamlavoy/model_traits/root_root_interaction_traits/3D_model_traits_work/segmentation.ipynb Cell 4\u001b[0m in \u001b[0;36m<cell line: 2>\u001b[0;34m()\u001b[0m\n\u001b[1;32m      <a href='vscode-notebook-cell:/home/williamlavoy/model_traits/root_root_interaction_traits/3D_model_traits_work/segmentation.ipynb#ch0000003?line=0'>1</a>\u001b[0m \u001b[39m#plane segmentation\u001b[39;00m\n\u001b[0;32m----> <a href='vscode-notebook-cell:/home/williamlavoy/model_traits/root_root_interaction_traits/3D_model_traits_work/segmentation.ipynb#ch0000003?line=1'>2</a>\u001b[0m pcd_point_cloud \u001b[39m=\u001b[39m o3d\u001b[39m.\u001b[39;49mdata\u001b[39m.\u001b[39mPCDPointCloud()\n\u001b[1;32m      <a href='vscode-notebook-cell:/home/williamlavoy/model_traits/root_root_interaction_traits/3D_model_traits_work/segmentation.ipynb#ch0000003?line=4'>5</a>\u001b[0m plane_model, inliers \u001b[39m=\u001b[39m pcd\u001b[39m.\u001b[39msegment_plane(distance_threshold\u001b[39m=\u001b[39m\u001b[39m0.01\u001b[39m,\n\u001b[1;32m      <a href='vscode-notebook-cell:/home/williamlavoy/model_traits/root_root_interaction_traits/3D_model_traits_work/segmentation.ipynb#ch0000003?line=5'>6</a>\u001b[0m                                          ransac_n\u001b[39m=\u001b[39m\u001b[39m3\u001b[39m,\n\u001b[1;32m      <a href='vscode-notebook-cell:/home/williamlavoy/model_traits/root_root_interaction_traits/3D_model_traits_work/segmentation.ipynb#ch0000003?line=6'>7</a>\u001b[0m                                          num_iterations\u001b[39m=\u001b[39m\u001b[39m10000\u001b[39m)\n\u001b[1;32m      <a href='vscode-notebook-cell:/home/williamlavoy/model_traits/root_root_interaction_traits/3D_model_traits_work/segmentation.ipynb#ch0000003?line=7'>8</a>\u001b[0m [a, b, c, d] \u001b[39m=\u001b[39m plane_model\n",
      "\u001b[0;31mAttributeError\u001b[0m: module 'open3d' has no attribute 'data'"
     ]
    }
   ],
   "source": [
    "#plane segmentation\n",
    "pcd_point_cloud = o3d.data.PCDPointCloud()\n",
    "\n",
    "\n",
    "plane_model, inliers = pcd.segment_plane(distance_threshold=0.01,\n",
    "                                         ransac_n=3,\n",
    "                                         num_iterations=10000)\n",
    "[a, b, c, d] = plane_model\n",
    "print(f\"Plane equation: {a:.2f}x + {b:.2f}y + {c:.2f}z + {d:.2f} = 0\")\n",
    "\n",
    "inlier_cloud = pcd.select_by_index(inliers)\n",
    "inlier_cloud.paint_uniform_color([1.0, 0, 0])\n",
    "outlier_cloud = pcd.select_by_index(inliers, invert=True)\n",
    "o3d.visualization.draw_geometries([inlier_cloud, outlier_cloud])"
   ]
  }
 ],
 "metadata": {
  "kernelspec": {
   "display_name": "Python 3.8.10 64-bit",
   "language": "python",
   "name": "python3"
  },
  "language_info": {
   "codemirror_mode": {
    "name": "ipython",
    "version": 3
   },
   "file_extension": ".py",
   "mimetype": "text/x-python",
   "name": "python",
   "nbconvert_exporter": "python",
   "pygments_lexer": "ipython3",
   "version": "3.8.10"
  },
  "orig_nbformat": 4,
  "vscode": {
   "interpreter": {
    "hash": "916dbcbb3f70747c44a77c7bcd40155683ae19c65e1c03b4aa3499c5328201f1"
   }
  }
 },
 "nbformat": 4,
 "nbformat_minor": 2
}
