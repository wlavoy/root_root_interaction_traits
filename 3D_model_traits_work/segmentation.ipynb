{
 "cells": [
  {
   "cell_type": "code",
   "execution_count": null,
   "metadata": {},
   "outputs": [],
   "source": [
    "'''\n",
    "First attempts at segmentation\n",
    "'''"
   ]
  },
  {
   "cell_type": "code",
   "execution_count": 1,
   "metadata": {},
   "outputs": [
    {
     "name": "stdout",
     "output_type": "stream",
     "text": [
      "Jupyter environment detected. Enabling Open3D WebVisualizer.\n",
      "[Open3D INFO] WebRTC GUI backend enabled.\n",
      "[Open3D INFO] WebRTCWindowSystem: HTTP handshake server disabled.\n"
     ]
    },
    {
     "ename": "ModuleNotFoundError",
     "evalue": "No module named 'pcl'",
     "output_type": "error",
     "traceback": [
      "\u001b[0;31m---------------------------------------------------------------------------\u001b[0m",
      "\u001b[0;31mModuleNotFoundError\u001b[0m                       Traceback (most recent call last)",
      "\u001b[1;32m/home/will/Work/root_root_interaction_traits/3D_model_traits_work/segmentation.ipynb Cell 2\u001b[0m in \u001b[0;36m<cell line: 5>\u001b[0;34m()\u001b[0m\n\u001b[1;32m      <a href='vscode-notebook-cell:/home/will/Work/root_root_interaction_traits/3D_model_traits_work/segmentation.ipynb#ch0000001?line=2'>3</a>\u001b[0m \u001b[39mimport\u001b[39;00m \u001b[39mmatplotlib\u001b[39;00m\u001b[39m.\u001b[39;00m\u001b[39mpyplot\u001b[39;00m \u001b[39mas\u001b[39;00m \u001b[39mplt\u001b[39;00m\n\u001b[1;32m      <a href='vscode-notebook-cell:/home/will/Work/root_root_interaction_traits/3D_model_traits_work/segmentation.ipynb#ch0000001?line=3'>4</a>\u001b[0m \u001b[39mimport\u001b[39;00m \u001b[39mopen3d\u001b[39;00m \u001b[39mas\u001b[39;00m \u001b[39mo3d\u001b[39;00m\n\u001b[0;32m----> <a href='vscode-notebook-cell:/home/will/Work/root_root_interaction_traits/3D_model_traits_work/segmentation.ipynb#ch0000001?line=4'>5</a>\u001b[0m \u001b[39mimport\u001b[39;00m \u001b[39mpcl\u001b[39;00m\n",
      "\u001b[0;31mModuleNotFoundError\u001b[0m: No module named 'pcl'"
     ]
    }
   ],
   "source": [
    "#load necessary packages\n",
    "import numpy as np\n",
    "import matplotlib.pyplot as plt\n",
    "import open3d as o3d\n",
    "import pcl"
   ]
  },
  {
   "cell_type": "code",
   "execution_count": 3,
   "metadata": {},
   "outputs": [
    {
     "name": "stdout",
     "output_type": "stream",
     "text": [
      "\u001b[1;33m[Open3D WARNING] Read PLY failed: unable to open file: ../root_root_interaction_traits/ft_all_aligned.ply\u001b[0;m\n"
     ]
    },
    {
     "name": "stderr",
     "output_type": "stream",
     "text": [
      "RPly: Unable to open file\n"
     ]
    },
    {
     "ename": "RuntimeError",
     "evalue": "\u001b[1;31m[Open3D Error] (std::tuple<Eigen::Matrix<double, 4, 1, 0, 4, 1>, std::vector<long unsigned int, std::allocator<long unsigned int> > > open3d::geometry::PointCloud::SegmentPlane(double, int, int, open3d::utility::optional<int>) const) /root/Open3D/cpp/open3d/geometry/PointCloudSegmentation.cpp:168: There must be at least 'ransac_n' points.\n\u001b[0;m",
     "output_type": "error",
     "traceback": [
      "\u001b[0;31m---------------------------------------------------------------------------\u001b[0m",
      "\u001b[0;31mRuntimeError\u001b[0m                              Traceback (most recent call last)",
      "\u001b[1;32m/home/will/Work/root_root_interaction_traits/3D_model_traits_work/segmentation.ipynb Cell 3\u001b[0m in \u001b[0;36m<cell line: 3>\u001b[0;34m()\u001b[0m\n\u001b[1;32m      <a href='vscode-notebook-cell:/home/will/Work/root_root_interaction_traits/3D_model_traits_work/segmentation.ipynb#ch0000003?line=0'>1</a>\u001b[0m \u001b[39m#convert data into pcd\u001b[39;00m\n\u001b[1;32m      <a href='vscode-notebook-cell:/home/will/Work/root_root_interaction_traits/3D_model_traits_work/segmentation.ipynb#ch0000003?line=1'>2</a>\u001b[0m pcd \u001b[39m=\u001b[39m o3d\u001b[39m.\u001b[39mio\u001b[39m.\u001b[39mread_point_cloud(\u001b[39m\"\u001b[39m\u001b[39m../root_root_interaction_traits/ft_all_aligned.ply\u001b[39m\u001b[39m\"\u001b[39m)\n\u001b[0;32m----> <a href='vscode-notebook-cell:/home/will/Work/root_root_interaction_traits/3D_model_traits_work/segmentation.ipynb#ch0000003?line=2'>3</a>\u001b[0m plane_model, inliers \u001b[39m=\u001b[39m pcd\u001b[39m.\u001b[39;49msegment_plane(distance_threshold\u001b[39m=\u001b[39;49m\u001b[39m0.01\u001b[39;49m, ransac_n\u001b[39m=\u001b[39;49m\u001b[39m3\u001b[39;49m, num_iterations\u001b[39m=\u001b[39;49m\u001b[39m1000\u001b[39;49m)\n",
      "\u001b[0;31mRuntimeError\u001b[0m: \u001b[1;31m[Open3D Error] (std::tuple<Eigen::Matrix<double, 4, 1, 0, 4, 1>, std::vector<long unsigned int, std::allocator<long unsigned int> > > open3d::geometry::PointCloud::SegmentPlane(double, int, int, open3d::utility::optional<int>) const) /root/Open3D/cpp/open3d/geometry/PointCloudSegmentation.cpp:168: There must be at least 'ransac_n' points.\n\u001b[0;m"
     ]
    }
   ],
   "source": [
    "#convert data into pcd\n",
    "pcd = o3d.io.read_point_cloud(\"../root_root_interaction_traits/ft_all_aligned.ply\")\n",
    "plane_model, inliers = pcd.segment_plane(distance_threshold=0.01, ransac_n=3, num_iterations=1000)"
   ]
  }
 ],
 "metadata": {
  "kernelspec": {
   "display_name": "Python 3.9.13 ('base')",
   "language": "python",
   "name": "python3"
  },
  "language_info": {
   "codemirror_mode": {
    "name": "ipython",
    "version": 3
   },
   "file_extension": ".py",
   "mimetype": "text/x-python",
   "name": "python",
   "nbconvert_exporter": "python",
   "pygments_lexer": "ipython3",
   "version": "3.9.13"
  },
  "orig_nbformat": 4,
  "vscode": {
   "interpreter": {
    "hash": "4d24da4dc4d5c07e0fe54234afc9f5d3b2c6b7aa241c795f9861c380028bf5f2"
   }
  }
 },
 "nbformat": 4,
 "nbformat_minor": 2
}
